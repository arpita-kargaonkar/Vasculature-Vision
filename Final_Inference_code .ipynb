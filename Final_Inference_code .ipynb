{
 "cells": [
  {
   "cell_type": "markdown",
   "id": "866cf06e",
   "metadata": {
    "_cell_guid": "b1076dfc-b9ad-4769-8c92-a6c4dae69d19",
    "_uuid": "8f2839f25d086af736a60e9eeb907d3b93b6e0e5",
    "papermill": {
     "duration": 0.005048,
     "end_time": "2023-08-01T06:22:39.815583",
     "exception": false,
     "start_time": "2023-08-01T06:22:39.810535",
     "status": "completed"
    },
    "tags": []
   },
   "source": [
    "# Install Offline MMDetection"
   ]
  },
  {
   "cell_type": "code",
   "execution_count": 1,
   "id": "f2c8a297",
   "metadata": {
    "execution": {
     "iopub.execute_input": "2023-08-01T06:22:39.826316Z",
     "iopub.status.busy": "2023-08-01T06:22:39.825852Z",
     "iopub.status.idle": "2023-08-01T06:25:54.068659Z",
     "shell.execute_reply": "2023-08-01T06:25:54.067432Z"
    },
    "papermill": {
     "duration": 194.254778,
     "end_time": "2023-08-01T06:25:54.074858",
     "exception": false,
     "start_time": "2023-08-01T06:22:39.820080",
     "status": "completed"
    },
    "tags": []
   },
   "outputs": [
    {
     "name": "stdout",
     "output_type": "stream",
     "text": [
      "CPU times: user 2.68 s, sys: 463 ms, total: 3.15 s\n",
      "Wall time: 3min 14s\n"
     ]
    }
   ],
   "source": [
    "%%time\n",
    "!pip install -qqq /kaggle/input/mmdetv3-env/archive/addict-2.4.0-py3-none-any.whl\n",
    "!pip install -qqq /kaggle/input/mmdetv3-env/archive/mmengine-0.7.4-py3-none-any.whl\n",
    "!pip install -qqq /kaggle/input/mmdetv3-env/archive/mmcv-2.0.0-cp310-cp310-linux_x86_64.whl\n",
    "!pip install -qqq /kaggle/input/mmdetv3-env/archive/terminaltables-3.1.10-py2.py3-none-any.whl\n",
    "!pip install -qqq /kaggle/input/pycocotools-206/wheels/pycocotools-2.0.6-cp310-cp310-linux_x86_64.whl\n",
    "#!pip install -qqq /kaggle/input/weighted-boxes-fusion/ensemble_boxes-1.0.9-py3-none-any.whl\n",
    "!pip install -qqq /kaggle/input/mmdetection-3-1-evn/src/mmdet-3.1.0-py3-none-any.whl"
   ]
  },
  {
   "cell_type": "code",
   "execution_count": 2,
   "id": "32d24f36",
   "metadata": {
    "execution": {
     "iopub.execute_input": "2023-08-01T06:25:54.086168Z",
     "iopub.status.busy": "2023-08-01T06:25:54.085127Z",
     "iopub.status.idle": "2023-08-01T06:26:02.541254Z",
     "shell.execute_reply": "2023-08-01T06:26:02.539483Z"
    },
    "papermill": {
     "duration": 8.464138,
     "end_time": "2023-08-01T06:26:02.543505",
     "exception": false,
     "start_time": "2023-08-01T06:25:54.079367",
     "status": "completed"
    },
    "tags": []
   },
   "outputs": [
    {
     "name": "stderr",
     "output_type": "stream",
     "text": [
      "/opt/conda/lib/python3.10/site-packages/scipy/__init__.py:146: UserWarning: A NumPy version >=1.16.5 and <1.23.0 is required for this version of SciPy (detected version 1.23.5\n",
      "  warnings.warn(f\"A NumPy version >={np_minversion} and <{np_maxversion}\"\n"
     ]
    },
    {
     "name": "stdout",
     "output_type": "stream",
     "text": [
      "3.1.0\n",
      "2.0.0\n",
      "0.7.4\n"
     ]
    }
   ],
   "source": [
    "from itertools import groupby\n",
    "from pycocotools import mask as mutils\n",
    "from pycocotools.coco import COCO\n",
    "import numpy as np\n",
    "from tqdm.notebook import tqdm\n",
    "import pandas as pd\n",
    "import os\n",
    "import cv2\n",
    "import matplotlib.pyplot as plt\n",
    "import wandb\n",
    "from PIL import Image\n",
    "import gc\n",
    "\n",
    "from glob import glob\n",
    "import matplotlib.pyplot as plt\n",
    "\n",
    "\n",
    "import base64\n",
    "import numpy as np\n",
    "from pycocotools import _mask as coco_mask\n",
    "from typing import Text, Dict, Tuple\n",
    "import zlib\n",
    "\n",
    "import mmdet, mmcv, mmengine\n",
    "from mmengine.config import Config\n",
    "from mmengine.runner import Runner\n",
    "from mmdet.utils import register_all_modules\n",
    "from mmdet.apis import init_detector, inference_detector\n",
    "from mmengine.visualization import Visualizer\n",
    "\n",
    "\n",
    "print(mmdet.__version__)\n",
    "print(mmcv.__version__)\n",
    "print(mmengine.__version__)"
   ]
  },
  {
   "cell_type": "code",
   "execution_count": 3,
   "id": "69186aab",
   "metadata": {
    "execution": {
     "iopub.execute_input": "2023-08-01T06:26:02.555613Z",
     "iopub.status.busy": "2023-08-01T06:26:02.553921Z",
     "iopub.status.idle": "2023-08-01T06:26:02.562777Z",
     "shell.execute_reply": "2023-08-01T06:26:02.561846Z"
    },
    "papermill": {
     "duration": 0.01686,
     "end_time": "2023-08-01T06:26:02.565037",
     "exception": false,
     "start_time": "2023-08-01T06:26:02.548177",
     "status": "completed"
    },
    "tags": []
   },
   "outputs": [],
   "source": [
    "import base64\n",
    "import numpy as np\n",
    "from pycocotools import _mask as coco_mask\n",
    "import typing as t\n",
    "import zlib\n",
    "\n",
    "def encode_binary_mask(mask: np.ndarray) -> Text:\n",
    "    \"\"\"Converts a binary mask into OID challenge encoding ascii text.\"\"\"\n",
    "\n",
    "    # check input mask --\n",
    "    if mask.dtype != bool:\n",
    "        raise ValueError(\n",
    "            \"encode_binary_mask expects a binary mask, received dtype == %s\" %\n",
    "            mask.dtype)\n",
    "\n",
    "    mask = np.squeeze(mask)\n",
    "    if len(mask.shape) != 2:\n",
    "        raise ValueError(\n",
    "            \"encode_binary_mask expects a 2d mask, received shape == %s\" %\n",
    "            mask.shape)\n",
    "\n",
    "    # convert input mask to expected COCO API input --\n",
    "    mask_to_encode = mask.reshape(mask.shape[0], mask.shape[1], 1)\n",
    "    mask_to_encode = mask_to_encode.astype(np.uint8)\n",
    "    mask_to_encode = np.asfortranarray(mask_to_encode)\n",
    "\n",
    "    # RLE encode mask --\n",
    "    encoded_mask = coco_mask.encode(mask_to_encode)[0][\"counts\"]\n",
    "\n",
    "    # compress and base64 encoding --\n",
    "    binary_str = zlib.compress(encoded_mask, zlib.Z_BEST_COMPRESSION)\n",
    "    base64_str = base64.b64encode(binary_str)\n",
    "    return base64_str"
   ]
  },
  {
   "cell_type": "code",
   "execution_count": 4,
   "id": "fb95bbd2",
   "metadata": {
    "execution": {
     "iopub.execute_input": "2023-08-01T06:26:02.575937Z",
     "iopub.status.busy": "2023-08-01T06:26:02.575633Z",
     "iopub.status.idle": "2023-08-01T06:26:02.580230Z",
     "shell.execute_reply": "2023-08-01T06:26:02.579289Z"
    },
    "papermill": {
     "duration": 0.012604,
     "end_time": "2023-08-01T06:26:02.582381",
     "exception": false,
     "start_time": "2023-08-01T06:26:02.569777",
     "status": "completed"
    },
    "tags": []
   },
   "outputs": [],
   "source": [
    "# def get_glomerulus_mask(annotations: Dict, mask_shape: Tuple = (512, 512)) -> np.ndarray:\n",
    "#     \"\"\" Converts glomerulus labels into boolean mask \"\"\"\n",
    "#     mask = np.ones(shape=mask_shape, dtype=np.uint8)\n",
    "    \n",
    "#     for annotation in annotations: \n",
    "#         if annotation['type'] == 'glomerulus':            \n",
    "#             coords = np.array(annotation['coordinates'])\n",
    "#             cv2.fillPoly(mask, pts=coords, color=0)\n",
    "\n",
    "#     return mask.astype(bool)"
   ]
  },
  {
   "cell_type": "code",
   "execution_count": 5,
   "id": "85f6fd87",
   "metadata": {
    "execution": {
     "iopub.execute_input": "2023-08-01T06:26:02.592810Z",
     "iopub.status.busy": "2023-08-01T06:26:02.592499Z",
     "iopub.status.idle": "2023-08-01T06:26:02.596770Z",
     "shell.execute_reply": "2023-08-01T06:26:02.595785Z"
    },
    "papermill": {
     "duration": 0.01197,
     "end_time": "2023-08-01T06:26:02.598850",
     "exception": false,
     "start_time": "2023-08-01T06:26:02.586880",
     "status": "completed"
    },
    "tags": []
   },
   "outputs": [],
   "source": [
    "# def morphological_gradient(binary_mask):\n",
    "#     if binary_mask.dtype != np.uint8:\n",
    "#         binary_mask = binary_mask.astype(np.uint8)\n",
    "#     kernel = cv2.getStructuringElement(cv2.MORPH_ELLIPSE, (5, 5))\n",
    "#     gradient = cv2.morphologyEx(binary_mask, cv2.MORPH_GRADIENT, kernel)\n",
    "\n",
    "#     return gradient\n",
    "\n"
   ]
  },
  {
   "cell_type": "code",
   "execution_count": 6,
   "id": "732a1253",
   "metadata": {
    "execution": {
     "iopub.execute_input": "2023-08-01T06:26:02.609217Z",
     "iopub.status.busy": "2023-08-01T06:26:02.608948Z",
     "iopub.status.idle": "2023-08-01T06:26:02.613341Z",
     "shell.execute_reply": "2023-08-01T06:26:02.612325Z"
    },
    "papermill": {
     "duration": 0.014764,
     "end_time": "2023-08-01T06:26:02.618334",
     "exception": false,
     "start_time": "2023-08-01T06:26:02.603570",
     "status": "completed"
    },
    "tags": []
   },
   "outputs": [],
   "source": [
    "def convert_to_binary_mask(mask):\n",
    "    binary_mask = (mask > 0)\n",
    "    return binary_mask"
   ]
  },
  {
   "cell_type": "code",
   "execution_count": 7,
   "id": "dbf5f0fd",
   "metadata": {
    "execution": {
     "iopub.execute_input": "2023-08-01T06:26:02.630198Z",
     "iopub.status.busy": "2023-08-01T06:26:02.629899Z",
     "iopub.status.idle": "2023-08-01T06:26:02.634503Z",
     "shell.execute_reply": "2023-08-01T06:26:02.633524Z"
    },
    "papermill": {
     "duration": 0.012016,
     "end_time": "2023-08-01T06:26:02.636485",
     "exception": false,
     "start_time": "2023-08-01T06:26:02.624469",
     "status": "completed"
    },
    "tags": []
   },
   "outputs": [],
   "source": [
    "def convert_to_mask(binary_mask):\n",
    "    mask = binary_mask.astype(np.uint8) * 255\n",
    "    return mask"
   ]
  },
  {
   "cell_type": "code",
   "execution_count": 8,
   "id": "be7a7a07",
   "metadata": {
    "execution": {
     "iopub.execute_input": "2023-08-01T06:26:02.646846Z",
     "iopub.status.busy": "2023-08-01T06:26:02.646583Z",
     "iopub.status.idle": "2023-08-01T06:26:02.652964Z",
     "shell.execute_reply": "2023-08-01T06:26:02.652023Z"
    },
    "papermill": {
     "duration": 0.014025,
     "end_time": "2023-08-01T06:26:02.654941",
     "exception": false,
     "start_time": "2023-08-01T06:26:02.640916",
     "status": "completed"
    },
    "tags": []
   },
   "outputs": [],
   "source": [
    "path_list = [\"/kaggle/input/hubmap-hacking-the-human-vasculature/test/\"+i for i in os.listdir(\"/kaggle/input/hubmap-hacking-the-human-vasculature/test/\")]"
   ]
  },
  {
   "cell_type": "code",
   "execution_count": 9,
   "id": "0f9343b2",
   "metadata": {
    "execution": {
     "iopub.execute_input": "2023-08-01T06:26:02.665405Z",
     "iopub.status.busy": "2023-08-01T06:26:02.664670Z",
     "iopub.status.idle": "2023-08-01T06:26:26.381774Z",
     "shell.execute_reply": "2023-08-01T06:26:26.380664Z"
    },
    "papermill": {
     "duration": 23.72493,
     "end_time": "2023-08-01T06:26:26.384231",
     "exception": false,
     "start_time": "2023-08-01T06:26:02.659301",
     "status": "completed"
    },
    "tags": []
   },
   "outputs": [
    {
     "name": "stderr",
     "output_type": "stream",
     "text": [
      "/opt/conda/lib/python3.10/site-packages/tensorflow_io/python/ops/__init__.py:98: UserWarning: unable to load libtensorflow_io_plugins.so: unable to open file: libtensorflow_io_plugins.so, from paths: ['/opt/conda/lib/python3.10/site-packages/tensorflow_io/python/ops/libtensorflow_io_plugins.so']\n",
      "caused by: ['/opt/conda/lib/python3.10/site-packages/tensorflow_io/python/ops/libtensorflow_io_plugins.so: undefined symbol: _ZN3tsl6StatusC1EN10tensorflow5error4CodeESt17basic_string_viewIcSt11char_traitsIcEENS_14SourceLocationE']\n",
      "  warnings.warn(f\"unable to load libtensorflow_io_plugins.so: {e}\")\n",
      "/opt/conda/lib/python3.10/site-packages/tensorflow_io/python/ops/__init__.py:104: UserWarning: file system plugins are not loaded: unable to open file: libtensorflow_io.so, from paths: ['/opt/conda/lib/python3.10/site-packages/tensorflow_io/python/ops/libtensorflow_io.so']\n",
      "caused by: ['/opt/conda/lib/python3.10/site-packages/tensorflow_io/python/ops/libtensorflow_io.so: undefined symbol: _ZTVN10tensorflow13GcsFileSystemE']\n",
      "  warnings.warn(f\"file system plugins are not loaded: {e}\")\n"
     ]
    },
    {
     "name": "stdout",
     "output_type": "stream",
     "text": [
      "Loads checkpoint by local backend from path: /kaggle/input/hubmap-final-r152-model/best_coco_segm_mAP_epoch_19.pth\n",
      "08/01 06:26:16 - mmengine - \u001b[5m\u001b[4m\u001b[33mWARNING\u001b[0m - blood_vessel is not a meta file, simply parsed as meta information\n"
     ]
    }
   ],
   "source": [
    "# img = mmcv.imread(\"/kaggle/input/hubmap-hacking-the-human-vasculature/test/72e40acccadf.tif\")\n",
    "checkpoint_file = \"/kaggle/input/hubmap-final-r152-model/best_coco_segm_mAP_epoch_19.pth\"\n",
    "config = '/kaggle/input/hubmap-final-r152-model/my_cmrcnn.py'\n",
    "cfg = Config.fromfile(config)\n",
    "\n",
    "model = init_detector(cfg, checkpoint=checkpoint_file, device=\"cuda:0\")\n",
    "result = inference_detector(model, imgs=path_list)"
   ]
  },
  {
   "cell_type": "code",
   "execution_count": 10,
   "id": "d9766504",
   "metadata": {
    "execution": {
     "iopub.execute_input": "2023-08-01T06:26:26.395711Z",
     "iopub.status.busy": "2023-08-01T06:26:26.395048Z",
     "iopub.status.idle": "2023-08-01T06:26:26.399413Z",
     "shell.execute_reply": "2023-08-01T06:26:26.398473Z"
    },
    "papermill": {
     "duration": 0.012348,
     "end_time": "2023-08-01T06:26:26.401527",
     "exception": false,
     "start_time": "2023-08-01T06:26:26.389179",
     "status": "completed"
    },
    "tags": []
   },
   "outputs": [],
   "source": [
    "# result"
   ]
  },
  {
   "cell_type": "code",
   "execution_count": 11,
   "id": "927d8ef1",
   "metadata": {
    "execution": {
     "iopub.execute_input": "2023-08-01T06:26:26.412251Z",
     "iopub.status.busy": "2023-08-01T06:26:26.411960Z",
     "iopub.status.idle": "2023-08-01T06:26:26.461765Z",
     "shell.execute_reply": "2023-08-01T06:26:26.460640Z"
    },
    "papermill": {
     "duration": 0.057858,
     "end_time": "2023-08-01T06:26:26.464252",
     "exception": false,
     "start_time": "2023-08-01T06:26:26.406394",
     "status": "completed"
    },
    "tags": []
   },
   "outputs": [],
   "source": [
    "ids = []\n",
    "heights = []\n",
    "widths = []\n",
    "prediction_string = []\n",
    "\n",
    "for res in result:\n",
    "    pr_i = res.pred_instances\n",
    "    id = res.img_path.split(\"/\")[-1][:-4]\n",
    "\n",
    "    scores = pr_i.scores.cpu().numpy()\n",
    "    bboxes = pr_i.bboxes.cpu().numpy()\n",
    "    masks = pr_i.masks.cpu().numpy()\n",
    "    labels = pr_i.labels.cpu().numpy()\n",
    "    \n",
    "    height,width = (512, 512)\n",
    "    \n",
    "    \n",
    "    pred_strings = []\n",
    "\n",
    "    for label, score, mask in zip(labels,scores, masks):\n",
    "        \n",
    "        pred_strings_txt = \"\"\n",
    "#         kernel = np.ones(shape=(3,3), dtype=np.uint8)\n",
    "#         mask = cv2.dilate(mask.astype(np.uint8), kernel, 4)\n",
    "\n",
    "        pred_strings_txt += f\"0 {score} {encode_binary_mask(mask.astype(np.bool_)).decode('utf-8')}\"\n",
    "        pred_strings.append(pred_strings_txt)\n",
    "        \n",
    "    ids.append(id)\n",
    "    heights.append(height)\n",
    "    widths.append(width)\n",
    "    prediction_string.append(\" \".join(pred_strings))\n",
    "\n",
    "sub = pd.DataFrame({\"id\": ids, \"height\": heights, \"width\": widths, \"prediction_string\": prediction_string})\n",
    "sub = sub.set_index(\"id\")\n",
    "sub.to_csv(\"submission.csv\")"
   ]
  },
  {
   "cell_type": "code",
   "execution_count": 12,
   "id": "bfe50aa8",
   "metadata": {
    "execution": {
     "iopub.execute_input": "2023-08-01T06:26:26.475653Z",
     "iopub.status.busy": "2023-08-01T06:26:26.475174Z",
     "iopub.status.idle": "2023-08-01T06:26:26.488212Z",
     "shell.execute_reply": "2023-08-01T06:26:26.487111Z"
    },
    "papermill": {
     "duration": 0.02178,
     "end_time": "2023-08-01T06:26:26.490857",
     "exception": false,
     "start_time": "2023-08-01T06:26:26.469077",
     "status": "completed"
    },
    "tags": []
   },
   "outputs": [
    {
     "data": {
      "text/html": [
       "<div>\n",
       "<style scoped>\n",
       "    .dataframe tbody tr th:only-of-type {\n",
       "        vertical-align: middle;\n",
       "    }\n",
       "\n",
       "    .dataframe tbody tr th {\n",
       "        vertical-align: top;\n",
       "    }\n",
       "\n",
       "    .dataframe thead th {\n",
       "        text-align: right;\n",
       "    }\n",
       "</style>\n",
       "<table border=\"1\" class=\"dataframe\">\n",
       "  <thead>\n",
       "    <tr style=\"text-align: right;\">\n",
       "      <th></th>\n",
       "      <th>height</th>\n",
       "      <th>width</th>\n",
       "      <th>prediction_string</th>\n",
       "    </tr>\n",
       "    <tr>\n",
       "      <th>id</th>\n",
       "      <th></th>\n",
       "      <th></th>\n",
       "      <th></th>\n",
       "    </tr>\n",
       "  </thead>\n",
       "  <tbody>\n",
       "    <tr>\n",
       "      <th>72e40acccadf</th>\n",
       "      <td>512</td>\n",
       "      <td>512</td>\n",
       "      <td>0 0.9781558513641357 eNqLjggyNU+zN/Mx9Df0N/IDk...</td>\n",
       "    </tr>\n",
       "  </tbody>\n",
       "</table>\n",
       "</div>"
      ],
      "text/plain": [
       "              height  width                                  prediction_string\n",
       "id                                                                            \n",
       "72e40acccadf     512    512  0 0.9781558513641357 eNqLjggyNU+zN/Mx9Df0N/IDk..."
      ]
     },
     "execution_count": 12,
     "metadata": {},
     "output_type": "execute_result"
    }
   ],
   "source": [
    "sub"
   ]
  },
  {
   "cell_type": "code",
   "execution_count": 13,
   "id": "2771de6a",
   "metadata": {
    "execution": {
     "iopub.execute_input": "2023-08-01T06:26:26.502199Z",
     "iopub.status.busy": "2023-08-01T06:26:26.501879Z",
     "iopub.status.idle": "2023-08-01T06:26:26.506040Z",
     "shell.execute_reply": "2023-08-01T06:26:26.505081Z"
    },
    "papermill": {
     "duration": 0.012302,
     "end_time": "2023-08-01T06:26:26.508204",
     "exception": false,
     "start_time": "2023-08-01T06:26:26.495902",
     "status": "completed"
    },
    "tags": []
   },
   "outputs": [],
   "source": [
    "# aug_mask = [mask[i] for mask in aug_masks]\n",
    "# merged_masks = merge_aug_masks(aug_mask)\n",
    "# segm_result = self.mask_head[-1].get_seg_masks( merged_masks, _bboxes[i], det_labels[i])"
   ]
  }
 ],
 "metadata": {
  "kernelspec": {
   "display_name": "Python 3",
   "language": "python",
   "name": "python3"
  },
  "language_info": {
   "codemirror_mode": {
    "name": "ipython",
    "version": 3
   },
   "file_extension": ".py",
   "mimetype": "text/x-python",
   "name": "python",
   "nbconvert_exporter": "python",
   "pygments_lexer": "ipython3",
   "version": "3.10.12"
  },
  "papermill": {
   "default_parameters": {},
   "duration": 239.867955,
   "end_time": "2023-08-01T06:26:29.515185",
   "environment_variables": {},
   "exception": null,
   "input_path": "__notebook__.ipynb",
   "output_path": "__notebook__.ipynb",
   "parameters": {},
   "start_time": "2023-08-01T06:22:29.647230",
   "version": "2.4.0"
  }
 },
 "nbformat": 4,
 "nbformat_minor": 5
}
