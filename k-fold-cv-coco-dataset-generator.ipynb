{
 "cells": [
  {
   "cell_type": "markdown",
   "id": "b4cac383",
   "metadata": {
    "papermill": {
     "duration": 0.008602,
     "end_time": "2023-07-31T13:01:00.604993",
     "exception": false,
     "start_time": "2023-07-31T13:01:00.596391",
     "status": "completed"
    },
    "tags": []
   },
   "source": [
    "# **[HuBMAP 2023] K-fold CV COCO Dataset Generator**"
   ]
  },
  {
   "cell_type": "markdown",
   "id": "c945f486",
   "metadata": {
    "papermill": {
     "duration": 0.007933,
     "end_time": "2023-07-31T13:01:00.621428",
     "exception": false,
     "start_time": "2023-07-31T13:01:00.613495",
     "status": "completed"
    },
    "tags": []
   },
   "source": [
    "### Versions\n",
    "* V7 - 2 Categories:  **{1: 'blood_vessel',2: 'glomerulus'}**\n",
    "* V6 - 1 Category:  **{1: 'blood_vessel'}**\n",
    "* V5 - Ignore it ,I made mistake!!!\n",
    "* V4 - 3 Categories:**{1: 'glomerulus', 2: 'blood_vessel', 3: 'unsure'}**"
   ]
  },
  {
   "cell_type": "code",
   "execution_count": 1,
   "id": "760f66a7",
   "metadata": {
    "_cell_guid": "b1076dfc-b9ad-4769-8c92-a6c4dae69d19",
    "_kg_hide-input": true,
    "_kg_hide-output": true,
    "_uuid": "8f2839f25d086af736a60e9eeb907d3b93b6e0e5",
    "execution": {
     "iopub.execute_input": "2023-07-31T13:01:00.639620Z",
     "iopub.status.busy": "2023-07-31T13:01:00.639141Z",
     "iopub.status.idle": "2023-07-31T13:01:46.820158Z",
     "shell.execute_reply": "2023-07-31T13:01:46.818711Z"
    },
    "papermill": {
     "duration": 46.193559,
     "end_time": "2023-07-31T13:01:46.823084",
     "exception": false,
     "start_time": "2023-07-31T13:01:00.629525",
     "status": "completed"
    },
    "tags": []
   },
   "outputs": [],
   "source": [
    "!pip install pycocotools -Uqq"
   ]
  },
  {
   "cell_type": "markdown",
   "id": "774ddf3b",
   "metadata": {
    "papermill": {
     "duration": 0.007726,
     "end_time": "2023-07-31T13:01:46.839224",
     "exception": false,
     "start_time": "2023-07-31T13:01:46.831498",
     "status": "completed"
    },
    "tags": []
   },
   "source": [
    "### importing libraries"
   ]
  },
  {
   "cell_type": "code",
   "execution_count": 2,
   "id": "d264a387",
   "metadata": {
    "execution": {
     "iopub.execute_input": "2023-07-31T13:01:46.859096Z",
     "iopub.status.busy": "2023-07-31T13:01:46.858634Z",
     "iopub.status.idle": "2023-07-31T13:01:49.250137Z",
     "shell.execute_reply": "2023-07-31T13:01:49.249028Z"
    },
    "papermill": {
     "duration": 2.403939,
     "end_time": "2023-07-31T13:01:49.252980",
     "exception": false,
     "start_time": "2023-07-31T13:01:46.849041",
     "status": "completed"
    },
    "tags": []
   },
   "outputs": [],
   "source": [
    "import json, cv2, numpy as np, itertools, random, pandas as pd\n",
    "from pycocotools.coco import COCO\n",
    "from pycocotools import mask as maskUtils\n",
    "from skimage import io\n",
    "import matplotlib.pyplot as plt\n",
    "from pathlib import Path\n",
    "from tqdm.auto import tqdm\n",
    "from sklearn import model_selection\n",
    "\n",
    "import matplotlib.pyplot as plt\n",
    "from skimage import io\n",
    "from pycocotools.coco import COCO\n",
    "import matplotlib.patches as mpatches"
   ]
  },
  {
   "cell_type": "markdown",
   "id": "6a269c32",
   "metadata": {
    "papermill": {
     "duration": 0.00798,
     "end_time": "2023-07-31T13:01:49.269162",
     "exception": false,
     "start_time": "2023-07-31T13:01:49.261182",
     "status": "completed"
    },
    "tags": []
   },
   "source": [
    "### Functions"
   ]
  },
  {
   "cell_type": "code",
   "execution_count": 3,
   "id": "059cec93",
   "metadata": {
    "execution": {
     "iopub.execute_input": "2023-07-31T13:01:49.287351Z",
     "iopub.status.busy": "2023-07-31T13:01:49.286907Z",
     "iopub.status.idle": "2023-07-31T13:01:49.303357Z",
     "shell.execute_reply": "2023-07-31T13:01:49.302277Z"
    },
    "papermill": {
     "duration": 0.028509,
     "end_time": "2023-07-31T13:01:49.305792",
     "exception": false,
     "start_time": "2023-07-31T13:01:49.277283",
     "status": "completed"
    },
    "tags": []
   },
   "outputs": [],
   "source": [
    "def coordinates_to_masks(coordinates, shape):\n",
    "    masks = []\n",
    "    for coord in coordinates:\n",
    "        mask = np.zeros(shape, dtype=np.uint8)\n",
    "        cv2.fillPoly(mask, [np.array(coord)], 1)\n",
    "        masks.append(mask)\n",
    "    return masks\n",
    "\n",
    "def rle_encoding(x):\n",
    "    dots = np.where(x.flatten() == 1)[0]\n",
    "    run_lengths = []\n",
    "    prev = -2\n",
    "    for b in dots:\n",
    "        if (b>prev+1): run_lengths.extend((b + 1, 0))\n",
    "        run_lengths[-1] += 1\n",
    "        prev = b\n",
    "    return ' '.join(map(str, run_lengths))\n",
    "\n",
    "def binary_mask_to_rle(binary_mask):\n",
    "    rle = {'counts': [], 'size': list(binary_mask.shape)}\n",
    "    counts = rle.get('counts')\n",
    "    for i, (value, elements) in enumerate(itertools.groupby(binary_mask.ravel(order='F'))):\n",
    "        if i == 0 and value == 1:\n",
    "            counts.append(0)\n",
    "        counts.append(len(list(elements)))\n",
    "    return rle\n",
    "\n",
    "def rle_to_binary_mask(mask_rle, shape=(512, 512)):\n",
    "    '''\n",
    "    mask_rle: run-length as string formated (start length)\n",
    "    shape: (height,width) of array to return \n",
    "    Returns numpy array, 1 - mask, 0 - background\n",
    "\n",
    "    '''\n",
    "    s = mask_rle.split()\n",
    "    starts, lengths = [np.asarray(x, dtype=int) \n",
    "                       for x in (s[0:][::2], s[1:][::2])]\n",
    "    starts -= 1\n",
    "    ends = starts + lengths\n",
    "    img = np.zeros(shape[0] * shape[1], dtype=np.uint8)\n",
    "    for lo, hi in zip(starts, ends):\n",
    "        img[lo : hi] = 1\n",
    "    return img.reshape(shape)  # Needed to align to RLE direction"
   ]
  },
  {
   "cell_type": "markdown",
   "id": "5b879f41",
   "metadata": {
    "papermill": {
     "duration": 0.00845,
     "end_time": "2023-07-31T13:01:49.322768",
     "exception": false,
     "start_time": "2023-07-31T13:01:49.314318",
     "status": "completed"
    },
    "tags": []
   },
   "source": [
    "### Loading Dataset"
   ]
  },
  {
   "cell_type": "code",
   "execution_count": 4,
   "id": "8153b7d8",
   "metadata": {
    "execution": {
     "iopub.execute_input": "2023-07-31T13:01:49.341420Z",
     "iopub.status.busy": "2023-07-31T13:01:49.341001Z",
     "iopub.status.idle": "2023-07-31T13:01:49.410021Z",
     "shell.execute_reply": "2023-07-31T13:01:49.408960Z"
    },
    "papermill": {
     "duration": 0.081695,
     "end_time": "2023-07-31T13:01:49.412698",
     "exception": false,
     "start_time": "2023-07-31T13:01:49.331003",
     "status": "completed"
    },
    "tags": []
   },
   "outputs": [
    {
     "data": {
      "text/html": [
       "<div>\n",
       "<style scoped>\n",
       "    .dataframe tbody tr th:only-of-type {\n",
       "        vertical-align: middle;\n",
       "    }\n",
       "\n",
       "    .dataframe tbody tr th {\n",
       "        vertical-align: top;\n",
       "    }\n",
       "\n",
       "    .dataframe thead th {\n",
       "        text-align: right;\n",
       "    }\n",
       "</style>\n",
       "<table border=\"1\" class=\"dataframe\">\n",
       "  <thead>\n",
       "    <tr style=\"text-align: right;\">\n",
       "      <th></th>\n",
       "      <th>id</th>\n",
       "      <th>source_wsi</th>\n",
       "      <th>dataset</th>\n",
       "      <th>i</th>\n",
       "      <th>j</th>\n",
       "    </tr>\n",
       "  </thead>\n",
       "  <tbody>\n",
       "    <tr>\n",
       "      <th>0</th>\n",
       "      <td>0006ff2aa7cd</td>\n",
       "      <td>2</td>\n",
       "      <td>2</td>\n",
       "      <td>16896</td>\n",
       "      <td>16420</td>\n",
       "    </tr>\n",
       "    <tr>\n",
       "      <th>1</th>\n",
       "      <td>00168d1b7522</td>\n",
       "      <td>2</td>\n",
       "      <td>2</td>\n",
       "      <td>14848</td>\n",
       "      <td>14884</td>\n",
       "    </tr>\n",
       "    <tr>\n",
       "      <th>2</th>\n",
       "      <td>0033bbc76b6b</td>\n",
       "      <td>1</td>\n",
       "      <td>1</td>\n",
       "      <td>10240</td>\n",
       "      <td>43008</td>\n",
       "    </tr>\n",
       "    <tr>\n",
       "      <th>3</th>\n",
       "      <td>003504460b3a</td>\n",
       "      <td>3</td>\n",
       "      <td>2</td>\n",
       "      <td>8192</td>\n",
       "      <td>11776</td>\n",
       "    </tr>\n",
       "    <tr>\n",
       "      <th>4</th>\n",
       "      <td>004daf1cbe75</td>\n",
       "      <td>3</td>\n",
       "      <td>2</td>\n",
       "      <td>6144</td>\n",
       "      <td>11264</td>\n",
       "    </tr>\n",
       "  </tbody>\n",
       "</table>\n",
       "</div>"
      ],
      "text/plain": [
       "             id  source_wsi  dataset      i      j\n",
       "0  0006ff2aa7cd           2        2  16896  16420\n",
       "1  00168d1b7522           2        2  14848  14884\n",
       "2  0033bbc76b6b           1        1  10240  43008\n",
       "3  003504460b3a           3        2   8192  11776\n",
       "4  004daf1cbe75           3        2   6144  11264"
      ]
     },
     "execution_count": 4,
     "metadata": {},
     "output_type": "execute_result"
    }
   ],
   "source": [
    "df = pd.read_csv('/kaggle/input/hubmap-hacking-the-human-vasculature/tile_meta.csv')\n",
    "df = df.query('dataset != 3')\n",
    "#df=df.head(50)\n",
    "df.reset_index(inplace=True,drop=True)\n",
    "df.head()"
   ]
  },
  {
   "cell_type": "markdown",
   "id": "143a402d",
   "metadata": {
    "papermill": {
     "duration": 0.008457,
     "end_time": "2023-07-31T13:01:49.429561",
     "exception": false,
     "start_time": "2023-07-31T13:01:49.421104",
     "status": "completed"
    },
    "tags": []
   },
   "source": [
    "### Spliting training & Valid"
   ]
  },
  {
   "cell_type": "code",
   "execution_count": 5,
   "id": "52cfcd2a",
   "metadata": {
    "execution": {
     "iopub.execute_input": "2023-07-31T13:01:49.448514Z",
     "iopub.status.busy": "2023-07-31T13:01:49.448032Z",
     "iopub.status.idle": "2023-07-31T13:01:49.474065Z",
     "shell.execute_reply": "2023-07-31T13:01:49.472744Z"
    },
    "papermill": {
     "duration": 0.03882,
     "end_time": "2023-07-31T13:01:49.476805",
     "exception": false,
     "start_time": "2023-07-31T13:01:49.437985",
     "status": "completed"
    },
    "tags": []
   },
   "outputs": [
    {
     "data": {
      "text/plain": [
       "fold\n",
       "1    327\n",
       "2    327\n",
       "3    327\n",
       "4    326\n",
       "5    326\n",
       "dtype: int64"
      ]
     },
     "execution_count": 5,
     "metadata": {},
     "output_type": "execute_result"
    }
   ],
   "source": [
    "from sklearn.model_selection import StratifiedKFold\n",
    "\n",
    "n_splits=5\n",
    "skf = StratifiedKFold(n_splits=n_splits, shuffle=True, random_state=42)\n",
    "for fold, (_, val_idx) in enumerate(skf.split(X=df, y=df['source_wsi']), 1):\n",
    "    df.loc[val_idx, 'fold'] = fold\n",
    "    \n",
    "df['fold'] = df['fold'].astype(np.uint8)\n",
    "df.groupby('fold').size()"
   ]
  },
  {
   "cell_type": "code",
   "execution_count": 6,
   "id": "ed4dfb80",
   "metadata": {
    "execution": {
     "iopub.execute_input": "2023-07-31T13:01:49.496360Z",
     "iopub.status.busy": "2023-07-31T13:01:49.495917Z",
     "iopub.status.idle": "2023-07-31T13:01:49.512746Z",
     "shell.execute_reply": "2023-07-31T13:01:49.511560Z"
    },
    "papermill": {
     "duration": 0.029735,
     "end_time": "2023-07-31T13:01:49.515284",
     "exception": false,
     "start_time": "2023-07-31T13:01:49.485549",
     "status": "completed"
    },
    "tags": []
   },
   "outputs": [
    {
     "data": {
      "text/html": [
       "<div>\n",
       "<style scoped>\n",
       "    .dataframe tbody tr th:only-of-type {\n",
       "        vertical-align: middle;\n",
       "    }\n",
       "\n",
       "    .dataframe tbody tr th {\n",
       "        vertical-align: top;\n",
       "    }\n",
       "\n",
       "    .dataframe thead th {\n",
       "        text-align: right;\n",
       "    }\n",
       "</style>\n",
       "<table border=\"1\" class=\"dataframe\">\n",
       "  <thead>\n",
       "    <tr style=\"text-align: right;\">\n",
       "      <th></th>\n",
       "      <th>id</th>\n",
       "      <th>source_wsi</th>\n",
       "      <th>dataset</th>\n",
       "      <th>i</th>\n",
       "      <th>j</th>\n",
       "      <th>fold</th>\n",
       "    </tr>\n",
       "  </thead>\n",
       "  <tbody>\n",
       "    <tr>\n",
       "      <th>0</th>\n",
       "      <td>0006ff2aa7cd</td>\n",
       "      <td>2</td>\n",
       "      <td>2</td>\n",
       "      <td>16896</td>\n",
       "      <td>16420</td>\n",
       "      <td>4</td>\n",
       "    </tr>\n",
       "    <tr>\n",
       "      <th>1</th>\n",
       "      <td>00168d1b7522</td>\n",
       "      <td>2</td>\n",
       "      <td>2</td>\n",
       "      <td>14848</td>\n",
       "      <td>14884</td>\n",
       "      <td>5</td>\n",
       "    </tr>\n",
       "    <tr>\n",
       "      <th>2</th>\n",
       "      <td>0033bbc76b6b</td>\n",
       "      <td>1</td>\n",
       "      <td>1</td>\n",
       "      <td>10240</td>\n",
       "      <td>43008</td>\n",
       "      <td>2</td>\n",
       "    </tr>\n",
       "    <tr>\n",
       "      <th>3</th>\n",
       "      <td>003504460b3a</td>\n",
       "      <td>3</td>\n",
       "      <td>2</td>\n",
       "      <td>8192</td>\n",
       "      <td>11776</td>\n",
       "      <td>4</td>\n",
       "    </tr>\n",
       "    <tr>\n",
       "      <th>4</th>\n",
       "      <td>004daf1cbe75</td>\n",
       "      <td>3</td>\n",
       "      <td>2</td>\n",
       "      <td>6144</td>\n",
       "      <td>11264</td>\n",
       "      <td>1</td>\n",
       "    </tr>\n",
       "    <tr>\n",
       "      <th>...</th>\n",
       "      <td>...</td>\n",
       "      <td>...</td>\n",
       "      <td>...</td>\n",
       "      <td>...</td>\n",
       "      <td>...</td>\n",
       "      <td>...</td>\n",
       "    </tr>\n",
       "    <tr>\n",
       "      <th>1628</th>\n",
       "      <td>ff434af74304</td>\n",
       "      <td>4</td>\n",
       "      <td>2</td>\n",
       "      <td>3072</td>\n",
       "      <td>22528</td>\n",
       "      <td>2</td>\n",
       "    </tr>\n",
       "    <tr>\n",
       "      <th>1629</th>\n",
       "      <td>ff4897b3eda6</td>\n",
       "      <td>4</td>\n",
       "      <td>2</td>\n",
       "      <td>11776</td>\n",
       "      <td>20992</td>\n",
       "      <td>2</td>\n",
       "    </tr>\n",
       "    <tr>\n",
       "      <th>1630</th>\n",
       "      <td>ff66dec71c4c</td>\n",
       "      <td>3</td>\n",
       "      <td>2</td>\n",
       "      <td>5120</td>\n",
       "      <td>10752</td>\n",
       "      <td>3</td>\n",
       "    </tr>\n",
       "    <tr>\n",
       "      <th>1631</th>\n",
       "      <td>ff99cdef0f2a</td>\n",
       "      <td>4</td>\n",
       "      <td>2</td>\n",
       "      <td>5120</td>\n",
       "      <td>24064</td>\n",
       "      <td>4</td>\n",
       "    </tr>\n",
       "    <tr>\n",
       "      <th>1632</th>\n",
       "      <td>ffd3d193c71e</td>\n",
       "      <td>3</td>\n",
       "      <td>2</td>\n",
       "      <td>7680</td>\n",
       "      <td>16896</td>\n",
       "      <td>5</td>\n",
       "    </tr>\n",
       "  </tbody>\n",
       "</table>\n",
       "<p>1633 rows × 6 columns</p>\n",
       "</div>"
      ],
      "text/plain": [
       "                id  source_wsi  dataset      i      j  fold\n",
       "0     0006ff2aa7cd           2        2  16896  16420     4\n",
       "1     00168d1b7522           2        2  14848  14884     5\n",
       "2     0033bbc76b6b           1        1  10240  43008     2\n",
       "3     003504460b3a           3        2   8192  11776     4\n",
       "4     004daf1cbe75           3        2   6144  11264     1\n",
       "...            ...         ...      ...    ...    ...   ...\n",
       "1628  ff434af74304           4        2   3072  22528     2\n",
       "1629  ff4897b3eda6           4        2  11776  20992     2\n",
       "1630  ff66dec71c4c           3        2   5120  10752     3\n",
       "1631  ff99cdef0f2a           4        2   5120  24064     4\n",
       "1632  ffd3d193c71e           3        2   7680  16896     5\n",
       "\n",
       "[1633 rows x 6 columns]"
      ]
     },
     "execution_count": 6,
     "metadata": {},
     "output_type": "execute_result"
    }
   ],
   "source": [
    "df"
   ]
  },
  {
   "cell_type": "markdown",
   "id": "cda49007",
   "metadata": {
    "papermill": {
     "duration": 0.008783,
     "end_time": "2023-07-31T13:01:49.533105",
     "exception": false,
     "start_time": "2023-07-31T13:01:49.524322",
     "status": "completed"
    },
    "tags": []
   },
   "source": [
    "### Reading polygons.jsonl"
   ]
  },
  {
   "cell_type": "code",
   "execution_count": 7,
   "id": "dd749cb6",
   "metadata": {
    "execution": {
     "iopub.execute_input": "2023-07-31T13:01:49.553106Z",
     "iopub.status.busy": "2023-07-31T13:01:49.552678Z",
     "iopub.status.idle": "2023-07-31T13:01:55.671604Z",
     "shell.execute_reply": "2023-07-31T13:01:55.670401Z"
    },
    "papermill": {
     "duration": 6.132239,
     "end_time": "2023-07-31T13:01:55.674340",
     "exception": false,
     "start_time": "2023-07-31T13:01:49.542101",
     "status": "completed"
    },
    "tags": []
   },
   "outputs": [],
   "source": [
    "jsonl_file_path = \"/kaggle/input/hubmap-hacking-the-human-vasculature/polygons.jsonl\"\n",
    "data = []\n",
    "with open(jsonl_file_path, \"r\") as file:\n",
    "    for line in file:\n",
    "        data.append(json.loads(line))"
   ]
  },
  {
   "cell_type": "markdown",
   "id": "616c91e9",
   "metadata": {
    "papermill": {
     "duration": 0.00878,
     "end_time": "2023-07-31T13:01:55.692297",
     "exception": false,
     "start_time": "2023-07-31T13:01:55.683517",
     "status": "completed"
    },
    "tags": []
   },
   "source": [
    "### Categories"
   ]
  },
  {
   "cell_type": "code",
   "execution_count": 8,
   "id": "46cc69ad",
   "metadata": {
    "execution": {
     "iopub.execute_input": "2023-07-31T13:01:55.712483Z",
     "iopub.status.busy": "2023-07-31T13:01:55.711512Z",
     "iopub.status.idle": "2023-07-31T13:01:55.719166Z",
     "shell.execute_reply": "2023-07-31T13:01:55.718238Z"
    },
    "papermill": {
     "duration": 0.020328,
     "end_time": "2023-07-31T13:01:55.721507",
     "exception": false,
     "start_time": "2023-07-31T13:01:55.701179",
     "status": "completed"
    },
    "tags": []
   },
   "outputs": [
    {
     "name": "stdout",
     "output_type": "stream",
     "text": [
      "{'blood_vessel': 1}\n",
      "{1: 'blood_vessel'}\n",
      "[{'id': 1, 'name': 'blood_vessel'}]\n"
     ]
    }
   ],
   "source": [
    "categories_list=['blood_vessel']#,'glomerulus','unsure']\n",
    "#------------------------------------------------------------------------------\n",
    "categories_ids = {name:id+1 for id, name in enumerate(categories_list)}  \n",
    "ids_categories = {id+1:name for id, name in enumerate(categories_list)}  \n",
    "categories =[{'id':id,'name':name} for name,id in categories_ids.items()]\n",
    "\n",
    "print(categories_ids)\n",
    "print(ids_categories)\n",
    "print(categories)"
   ]
  },
  {
   "cell_type": "markdown",
   "id": "36a618ef",
   "metadata": {
    "papermill": {
     "duration": 0.009239,
     "end_time": "2023-07-31T13:01:55.740117",
     "exception": false,
     "start_time": "2023-07-31T13:01:55.730878",
     "status": "completed"
    },
    "tags": []
   },
   "source": [
    "### Creating COCO"
   ]
  },
  {
   "cell_type": "code",
   "execution_count": 9,
   "id": "129d43ea",
   "metadata": {
    "execution": {
     "iopub.execute_input": "2023-07-31T13:01:55.760995Z",
     "iopub.status.busy": "2023-07-31T13:01:55.760217Z",
     "iopub.status.idle": "2023-07-31T13:01:55.772157Z",
     "shell.execute_reply": "2023-07-31T13:01:55.771062Z"
    },
    "papermill": {
     "duration": 0.025467,
     "end_time": "2023-07-31T13:01:55.774865",
     "exception": false,
     "start_time": "2023-07-31T13:01:55.749398",
     "status": "completed"
    },
    "tags": []
   },
   "outputs": [],
   "source": [
    "def coco_structure(images_ids):\n",
    "    idx=1\n",
    "    annotations=[]\n",
    "    images=[]\n",
    "    for item in tqdm(data,total=int(len(images_ids))):\n",
    "        image_id=item[\"id\"]\n",
    "        if image_id in images_ids:\n",
    "            image = {\"id\": image_id, \"file_name\": image_id + \".tif\", \"height\": 512, \"width\": 512}\n",
    "            images.append(image)\n",
    "        else:continue\n",
    "        #-----------------------------\n",
    "        anns=item[\"annotations\"]\n",
    "        for an in anns:\n",
    "            category_type=an[\"type\"]\n",
    "            if category_type !=\"blood_vessel\": continue\n",
    "            category_id=categories_ids[category_type]\n",
    "            segmentation=an[\"coordinates\"]\n",
    "            mask_img = coordinates_to_masks(segmentation, (512, 512))[0]\n",
    "            ys, xs = np.where(mask_img)\n",
    "            x1, x2 = min(xs), max(xs)\n",
    "            y1, y2 = min(ys), max(ys)\n",
    "\n",
    "            rle = binary_mask_to_rle(mask_img)\n",
    "\n",
    "            seg = {\n",
    "                    \"id\": idx,\n",
    "                    \"image_id\": image_id,\n",
    "                    \"category_id\": category_id,\n",
    "                    \"segmentation\": rle,\n",
    "                    \"bbox\": [int(x1), int(y1), int(x2 - x1 + 1), int(y2 - y1 + 1)],\n",
    "                    \"area\": int(np.sum(mask_img)),\n",
    "                    \"iscrowd\": 0,\n",
    "                }\n",
    "            if image_id in images_ids:\n",
    "                annotations.append(seg)\n",
    "                idx=idx+1\n",
    "                \n",
    "    return {\"info\": {}, \"licenses\": [], \"categories\": categories, \"images\": images, \"annotations\": annotations}"
   ]
  },
  {
   "cell_type": "markdown",
   "id": "a2fefd3b",
   "metadata": {
    "papermill": {
     "duration": 0.008793,
     "end_time": "2023-07-31T13:01:55.792668",
     "exception": false,
     "start_time": "2023-07-31T13:01:55.783875",
     "status": "completed"
    },
    "tags": []
   },
   "source": [
    "### Saving COCO"
   ]
  },
  {
   "cell_type": "code",
   "execution_count": 10,
   "id": "ed7d5868",
   "metadata": {
    "execution": {
     "iopub.execute_input": "2023-07-31T13:01:55.812580Z",
     "iopub.status.busy": "2023-07-31T13:01:55.812142Z",
     "iopub.status.idle": "2023-07-31T13:14:29.680744Z",
     "shell.execute_reply": "2023-07-31T13:14:29.678815Z"
    },
    "papermill": {
     "duration": 753.882246,
     "end_time": "2023-07-31T13:14:29.683807",
     "exception": false,
     "start_time": "2023-07-31T13:01:55.801561",
     "status": "completed"
    },
    "tags": []
   },
   "outputs": [
    {
     "name": "stdout",
     "output_type": "stream",
     "text": [
      "1307 326\n"
     ]
    },
    {
     "data": {
      "application/vnd.jupyter.widget-view+json": {
       "model_id": "c446dc74661641a1816940a970cf6239",
       "version_major": 2,
       "version_minor": 0
      },
      "text/plain": [
       "  0%|          | 0/1307 [00:00<?, ?it/s]"
      ]
     },
     "metadata": {},
     "output_type": "display_data"
    },
    {
     "data": {
      "application/vnd.jupyter.widget-view+json": {
       "model_id": "466d39df9df74b84bdb18362d42e98e2",
       "version_major": 2,
       "version_minor": 0
      },
      "text/plain": [
       "  0%|          | 0/326 [00:00<?, ?it/s]"
      ]
     },
     "metadata": {},
     "output_type": "display_data"
    }
   ],
   "source": [
    "for i in range(5,6):   \n",
    "    selected_fold=i\n",
    "#     df = df[df.dataset==1].reset_index(drop=True)\n",
    "    train_ids = df.query(f'fold != {selected_fold}')['id'].values.tolist()\n",
    "    valid_ids = df.query(f'fold == {selected_fold}')['id'].values.tolist()\n",
    "    print(len(train_ids), len(valid_ids))\n",
    "    train_coco_data = coco_structure(train_ids)\n",
    "    valid_coco_data = coco_structure(valid_ids)\n",
    "    output_file_path = f\"coco_annotations_PURE_train_class_{len(categories_list)}_folds{n_splits}_fold{selected_fold}.json\"\n",
    "    with open(output_file_path, \"w\", encoding=\"utf-8\") as output_file:\n",
    "        json.dump(train_coco_data, output_file, ensure_ascii=True, indent=4)\n",
    "\n",
    "    output_file_path = f\"coco_annotations_PURE_valid_class_{len(categories_list)}_folds{n_splits}_fold{selected_fold}.json\"\n",
    "    with open(output_file_path, \"w\", encoding=\"utf-8\") as output_file:\n",
    "        json.dump(valid_coco_data, output_file, ensure_ascii=True, indent=4)"
   ]
  },
  {
   "cell_type": "markdown",
   "id": "19ba1fe6",
   "metadata": {
    "papermill": {
     "duration": 0.009172,
     "end_time": "2023-07-31T13:14:29.703510",
     "exception": false,
     "start_time": "2023-07-31T13:14:29.694338",
     "status": "completed"
    },
    "tags": []
   },
   "source": [
    "### Creating DataFrame"
   ]
  },
  {
   "cell_type": "code",
   "execution_count": 11,
   "id": "5ce32b4d",
   "metadata": {
    "execution": {
     "iopub.execute_input": "2023-07-31T13:14:29.725730Z",
     "iopub.status.busy": "2023-07-31T13:14:29.724322Z",
     "iopub.status.idle": "2023-07-31T13:14:29.738564Z",
     "shell.execute_reply": "2023-07-31T13:14:29.737243Z"
    },
    "papermill": {
     "duration": 0.028697,
     "end_time": "2023-07-31T13:14:29.741751",
     "exception": false,
     "start_time": "2023-07-31T13:14:29.713054",
     "status": "completed"
    },
    "tags": []
   },
   "outputs": [],
   "source": [
    "def dataframe_structure():\n",
    "    annotations=[]\n",
    "    for item in tqdm(data):\n",
    "        image_id=item[\"id\"]\n",
    "        anns=item[\"annotations\"]\n",
    "        #if not image_id in images_ids:continue\n",
    "        for an in anns:\n",
    "            category_type=an[\"type\"]\n",
    "            category_id=categories_ids[category_type]\n",
    "            segmentation=an[\"coordinates\"]\n",
    "            mask_img = coordinates_to_masks(segmentation, (512, 512))[0]\n",
    "            ys, xs = np.where(mask_img)\n",
    "            x1, x2 = min(xs), max(xs)\n",
    "            y1, y2 = min(ys), max(ys)\n",
    "            for index, row in df.query(f\"id=='{image_id}'\").iterrows():\n",
    "                seg = {\n",
    "                        \"image_id\": image_id,\n",
    "                        \"source_wsi\": row[\"source_wsi\"],\n",
    "                        \"dataset\": row[\"dataset\"],\n",
    "                        \"category_id\": int(category_id),\n",
    "                        \"category_name\": ids_categories[category_id],\n",
    "                        \"annotations\": rle_encoding(mask_img),\n",
    "                        \"bbox\": (int(x1), int(y1), int(x2 - x1 + 1), int(y2 - y1 + 1)),\n",
    "                        \"area\": int(np.sum(mask_img)),\n",
    "                        \"iscrowd\": 0,\n",
    "                    }\n",
    "                annotations.append(seg)\n",
    "                \n",
    "    return annotations"
   ]
  },
  {
   "cell_type": "code",
   "execution_count": 12,
   "id": "90415424",
   "metadata": {
    "execution": {
     "iopub.execute_input": "2023-07-31T13:14:29.764176Z",
     "iopub.status.busy": "2023-07-31T13:14:29.763203Z",
     "iopub.status.idle": "2023-07-31T13:14:29.768443Z",
     "shell.execute_reply": "2023-07-31T13:14:29.767561Z"
    },
    "papermill": {
     "duration": 0.018849,
     "end_time": "2023-07-31T13:14:29.770771",
     "exception": false,
     "start_time": "2023-07-31T13:14:29.751922",
     "status": "completed"
    },
    "tags": []
   },
   "outputs": [],
   "source": [
    "#data_dict = dataframe_structure()\n",
    "#df_train = pd.DataFrame(data_dict)\n",
    "#df_train.head(10)"
   ]
  },
  {
   "cell_type": "code",
   "execution_count": 13,
   "id": "22a19dff",
   "metadata": {
    "execution": {
     "iopub.execute_input": "2023-07-31T13:14:29.792336Z",
     "iopub.status.busy": "2023-07-31T13:14:29.791568Z",
     "iopub.status.idle": "2023-07-31T13:14:29.796735Z",
     "shell.execute_reply": "2023-07-31T13:14:29.795747Z"
    },
    "papermill": {
     "duration": 0.018792,
     "end_time": "2023-07-31T13:14:29.799148",
     "exception": false,
     "start_time": "2023-07-31T13:14:29.780356",
     "status": "completed"
    },
    "tags": []
   },
   "outputs": [],
   "source": [
    "#df_train.to_csv(\"df_train.csv\")"
   ]
  },
  {
   "cell_type": "code",
   "execution_count": 14,
   "id": "08def67a",
   "metadata": {
    "execution": {
     "iopub.execute_input": "2023-07-31T13:14:29.822904Z",
     "iopub.status.busy": "2023-07-31T13:14:29.822202Z",
     "iopub.status.idle": "2023-07-31T13:14:29.827058Z",
     "shell.execute_reply": "2023-07-31T13:14:29.826062Z"
    },
    "papermill": {
     "duration": 0.019551,
     "end_time": "2023-07-31T13:14:29.829335",
     "exception": false,
     "start_time": "2023-07-31T13:14:29.809784",
     "status": "completed"
    },
    "tags": []
   },
   "outputs": [],
   "source": [
    "#!zip -r file.zip /kaggle/working\n",
    "#from IPython.display import FileLink\n",
    "#FileLink(r'file.zip')"
   ]
  },
  {
   "cell_type": "markdown",
   "id": "8122ff12",
   "metadata": {
    "papermill": {
     "duration": 0.009224,
     "end_time": "2023-07-31T13:14:29.848274",
     "exception": false,
     "start_time": "2023-07-31T13:14:29.839050",
     "status": "completed"
    },
    "tags": []
   },
   "source": [
    "### Visualization"
   ]
  },
  {
   "cell_type": "code",
   "execution_count": 15,
   "id": "204e3597",
   "metadata": {
    "execution": {
     "iopub.execute_input": "2023-07-31T13:14:29.869567Z",
     "iopub.status.busy": "2023-07-31T13:14:29.868874Z",
     "iopub.status.idle": "2023-07-31T13:14:29.874566Z",
     "shell.execute_reply": "2023-07-31T13:14:29.873716Z"
    },
    "papermill": {
     "duration": 0.019446,
     "end_time": "2023-07-31T13:14:29.877329",
     "exception": false,
     "start_time": "2023-07-31T13:14:29.857883",
     "status": "completed"
    },
    "tags": []
   },
   "outputs": [],
   "source": [
    "# dataDir = Path(\"/kaggle/input/hubmap-hacking-the-human-vasculature/train\")\n",
    "# annFile = Path(f\"coco_annotations_train_class_{len(categories_list)}_folds{n_splits}_fold{selected_fold}.json\")\n",
    "\n",
    "# colors = ['Set1','Set3','Set3_r'] \n",
    "# legend = ids_categories #{1: 'blood_vessel',2:glomerulus....}\n",
    "\n",
    "# coco = COCO(annFile)\n",
    "# imgIds = coco.getImgIds()\n",
    "# imgs = coco.loadImgs(imgIds[0:4])\n",
    "\n",
    "# fig, axs = plt.subplots(len(imgs), 2, figsize=(10, 5*len(imgs)))\n",
    "# for img, ax_row in zip(imgs, axs):\n",
    "#     ax = ax_row[0]  # Access the first axis in each row\n",
    "#     I = io.imread(dataDir / img[\"file_name\"])\n",
    "#     annIds = coco.getAnnIds(imgIds=[img[\"id\"]])\n",
    "#     anns = coco.loadAnns(annIds)\n",
    "#     ax.imshow(I)\n",
    "#     ax = ax_row[1]  # Access the second axis in each row\n",
    "#     ax.imshow(I)\n",
    "#     plt.sca(ax)\n",
    "#     for i, ann in enumerate(anns):\n",
    "#         category_id = ann['category_id']\n",
    "#         color = colors[category_id-1]\n",
    "#         #-----------------------------------------\n",
    "#         mask = coco.annToMask(ann)\n",
    "#         mask = np.ma.masked_where(mask == 0, mask)\n",
    "#         ax.imshow(mask, cmap=color, alpha=0.8)\n",
    "#         #-----------------------------------------\n",
    "#         handles = []\n",
    "#         for category_id in legend:\n",
    "#             color = colors[category_id - 1]\n",
    "#             handles.append(mpatches.Patch(color=plt.colormaps.get_cmap(color)(0)))\n",
    "#         ax.legend(handles, legend.values(), bbox_to_anchor=(1.05, 1), loc='upper left')\n",
    "\n",
    "# plt.axis('off')\n",
    "# plt.show()"
   ]
  }
 ],
 "metadata": {
  "kernelspec": {
   "display_name": "Python 3",
   "language": "python",
   "name": "python3"
  },
  "language_info": {
   "codemirror_mode": {
    "name": "ipython",
    "version": 3
   },
   "file_extension": ".py",
   "mimetype": "text/x-python",
   "name": "python",
   "nbconvert_exporter": "python",
   "pygments_lexer": "ipython3",
   "version": "3.10.10"
  },
  "papermill": {
   "default_parameters": {},
   "duration": 825.68229,
   "end_time": "2023-07-31T13:14:32.320587",
   "environment_variables": {},
   "exception": null,
   "input_path": "__notebook__.ipynb",
   "output_path": "__notebook__.ipynb",
   "parameters": {},
   "start_time": "2023-07-31T13:00:46.638297",
   "version": "2.4.0"
  },
  "widgets": {
   "application/vnd.jupyter.widget-state+json": {
    "state": {
     "0a4c0471b9b24527a2b7ced543ba92bf": {
      "model_module": "@jupyter-widgets/controls",
      "model_module_version": "1.5.0",
      "model_name": "ProgressStyleModel",
      "state": {
       "_model_module": "@jupyter-widgets/controls",
       "_model_module_version": "1.5.0",
       "_model_name": "ProgressStyleModel",
       "_view_count": null,
       "_view_module": "@jupyter-widgets/base",
       "_view_module_version": "1.2.0",
       "_view_name": "StyleView",
       "bar_color": null,
       "description_width": ""
      }
     },
     "10ab02b540984c2f9298dca1efa7d53a": {
      "model_module": "@jupyter-widgets/controls",
      "model_module_version": "1.5.0",
      "model_name": "HTMLModel",
      "state": {
       "_dom_classes": [],
       "_model_module": "@jupyter-widgets/controls",
       "_model_module_version": "1.5.0",
       "_model_name": "HTMLModel",
       "_view_count": null,
       "_view_module": "@jupyter-widgets/controls",
       "_view_module_version": "1.5.0",
       "_view_name": "HTMLView",
       "description": "",
       "description_tooltip": null,
       "layout": "IPY_MODEL_bb793530498645ee82f6b39de5b6f3bb",
       "placeholder": "​",
       "style": "IPY_MODEL_a9c4b91f98494243a0fc494ba683d485",
       "value": " 1633/? [02:29&lt;00:00, 17.40it/s]"
      }
     },
     "12de78103a2d41269cf0006b4ed98599": {
      "model_module": "@jupyter-widgets/base",
      "model_module_version": "1.2.0",
      "model_name": "LayoutModel",
      "state": {
       "_model_module": "@jupyter-widgets/base",
       "_model_module_version": "1.2.0",
       "_model_name": "LayoutModel",
       "_view_count": null,
       "_view_module": "@jupyter-widgets/base",
       "_view_module_version": "1.2.0",
       "_view_name": "LayoutView",
       "align_content": null,
       "align_items": null,
       "align_self": null,
       "border": null,
       "bottom": null,
       "display": null,
       "flex": null,
       "flex_flow": null,
       "grid_area": null,
       "grid_auto_columns": null,
       "grid_auto_flow": null,
       "grid_auto_rows": null,
       "grid_column": null,
       "grid_gap": null,
       "grid_row": null,
       "grid_template_areas": null,
       "grid_template_columns": null,
       "grid_template_rows": null,
       "height": null,
       "justify_content": null,
       "justify_items": null,
       "left": null,
       "margin": null,
       "max_height": null,
       "max_width": null,
       "min_height": null,
       "min_width": null,
       "object_fit": null,
       "object_position": null,
       "order": null,
       "overflow": null,
       "overflow_x": null,
       "overflow_y": null,
       "padding": null,
       "right": null,
       "top": null,
       "visibility": null,
       "width": null
      }
     },
     "2bc791c7407b4191ac37604015538aa2": {
      "model_module": "@jupyter-widgets/base",
      "model_module_version": "1.2.0",
      "model_name": "LayoutModel",
      "state": {
       "_model_module": "@jupyter-widgets/base",
       "_model_module_version": "1.2.0",
       "_model_name": "LayoutModel",
       "_view_count": null,
       "_view_module": "@jupyter-widgets/base",
       "_view_module_version": "1.2.0",
       "_view_name": "LayoutView",
       "align_content": null,
       "align_items": null,
       "align_self": null,
       "border": null,
       "bottom": null,
       "display": null,
       "flex": null,
       "flex_flow": null,
       "grid_area": null,
       "grid_auto_columns": null,
       "grid_auto_flow": null,
       "grid_auto_rows": null,
       "grid_column": null,
       "grid_gap": null,
       "grid_row": null,
       "grid_template_areas": null,
       "grid_template_columns": null,
       "grid_template_rows": null,
       "height": null,
       "justify_content": null,
       "justify_items": null,
       "left": null,
       "margin": null,
       "max_height": null,
       "max_width": null,
       "min_height": null,
       "min_width": null,
       "object_fit": null,
       "object_position": null,
       "order": null,
       "overflow": null,
       "overflow_x": null,
       "overflow_y": null,
       "padding": null,
       "right": null,
       "top": null,
       "visibility": null,
       "width": null
      }
     },
     "3421ac7123674374b6f8aecfd5c2205c": {
      "model_module": "@jupyter-widgets/controls",
      "model_module_version": "1.5.0",
      "model_name": "HTMLModel",
      "state": {
       "_dom_classes": [],
       "_model_module": "@jupyter-widgets/controls",
       "_model_module_version": "1.5.0",
       "_model_name": "HTMLModel",
       "_view_count": null,
       "_view_module": "@jupyter-widgets/controls",
       "_view_module_version": "1.5.0",
       "_view_name": "HTMLView",
       "description": "",
       "description_tooltip": null,
       "layout": "IPY_MODEL_c657402f65fe4fe285ab3b391c608415",
       "placeholder": "​",
       "style": "IPY_MODEL_56e890e0bfd04af08cfc3e266262181a",
       "value": ""
      }
     },
     "426bc7917301496f8dcf31724ece1dea": {
      "model_module": "@jupyter-widgets/base",
      "model_module_version": "1.2.0",
      "model_name": "LayoutModel",
      "state": {
       "_model_module": "@jupyter-widgets/base",
       "_model_module_version": "1.2.0",
       "_model_name": "LayoutModel",
       "_view_count": null,
       "_view_module": "@jupyter-widgets/base",
       "_view_module_version": "1.2.0",
       "_view_name": "LayoutView",
       "align_content": null,
       "align_items": null,
       "align_self": null,
       "border": null,
       "bottom": null,
       "display": null,
       "flex": null,
       "flex_flow": null,
       "grid_area": null,
       "grid_auto_columns": null,
       "grid_auto_flow": null,
       "grid_auto_rows": null,
       "grid_column": null,
       "grid_gap": null,
       "grid_row": null,
       "grid_template_areas": null,
       "grid_template_columns": null,
       "grid_template_rows": null,
       "height": null,
       "justify_content": null,
       "justify_items": null,
       "left": null,
       "margin": null,
       "max_height": null,
       "max_width": null,
       "min_height": null,
       "min_width": null,
       "object_fit": null,
       "object_position": null,
       "order": null,
       "overflow": null,
       "overflow_x": null,
       "overflow_y": null,
       "padding": null,
       "right": null,
       "top": null,
       "visibility": null,
       "width": null
      }
     },
     "466d39df9df74b84bdb18362d42e98e2": {
      "model_module": "@jupyter-widgets/controls",
      "model_module_version": "1.5.0",
      "model_name": "HBoxModel",
      "state": {
       "_dom_classes": [],
       "_model_module": "@jupyter-widgets/controls",
       "_model_module_version": "1.5.0",
       "_model_name": "HBoxModel",
       "_view_count": null,
       "_view_module": "@jupyter-widgets/controls",
       "_view_module_version": "1.5.0",
       "_view_name": "HBoxView",
       "box_style": "",
       "children": [
        "IPY_MODEL_3421ac7123674374b6f8aecfd5c2205c",
        "IPY_MODEL_617144cb9ab3416c9857b40ebaec2343",
        "IPY_MODEL_10ab02b540984c2f9298dca1efa7d53a"
       ],
       "layout": "IPY_MODEL_ba44ec726d1a4f3aafc55fb059a4c8bf"
      }
     },
     "56e890e0bfd04af08cfc3e266262181a": {
      "model_module": "@jupyter-widgets/controls",
      "model_module_version": "1.5.0",
      "model_name": "DescriptionStyleModel",
      "state": {
       "_model_module": "@jupyter-widgets/controls",
       "_model_module_version": "1.5.0",
       "_model_name": "DescriptionStyleModel",
       "_view_count": null,
       "_view_module": "@jupyter-widgets/base",
       "_view_module_version": "1.2.0",
       "_view_name": "StyleView",
       "description_width": ""
      }
     },
     "617144cb9ab3416c9857b40ebaec2343": {
      "model_module": "@jupyter-widgets/controls",
      "model_module_version": "1.5.0",
      "model_name": "FloatProgressModel",
      "state": {
       "_dom_classes": [],
       "_model_module": "@jupyter-widgets/controls",
       "_model_module_version": "1.5.0",
       "_model_name": "FloatProgressModel",
       "_view_count": null,
       "_view_module": "@jupyter-widgets/controls",
       "_view_module_version": "1.5.0",
       "_view_name": "ProgressView",
       "bar_style": "success",
       "description": "",
       "description_tooltip": null,
       "layout": "IPY_MODEL_6bf9cde5c3964811b0cf0b2ea8deb9f9",
       "max": 326.0,
       "min": 0.0,
       "orientation": "horizontal",
       "style": "IPY_MODEL_0a4c0471b9b24527a2b7ced543ba92bf",
       "value": 326.0
      }
     },
     "637dfe16a74d4d5ab4eb30cc620ea848": {
      "model_module": "@jupyter-widgets/controls",
      "model_module_version": "1.5.0",
      "model_name": "HTMLModel",
      "state": {
       "_dom_classes": [],
       "_model_module": "@jupyter-widgets/controls",
       "_model_module_version": "1.5.0",
       "_model_name": "HTMLModel",
       "_view_count": null,
       "_view_module": "@jupyter-widgets/controls",
       "_view_module_version": "1.5.0",
       "_view_name": "HTMLView",
       "description": "",
       "description_tooltip": null,
       "layout": "IPY_MODEL_426bc7917301496f8dcf31724ece1dea",
       "placeholder": "​",
       "style": "IPY_MODEL_666274942b4f40669d6f762d8779ccb0",
       "value": ""
      }
     },
     "666274942b4f40669d6f762d8779ccb0": {
      "model_module": "@jupyter-widgets/controls",
      "model_module_version": "1.5.0",
      "model_name": "DescriptionStyleModel",
      "state": {
       "_model_module": "@jupyter-widgets/controls",
       "_model_module_version": "1.5.0",
       "_model_name": "DescriptionStyleModel",
       "_view_count": null,
       "_view_module": "@jupyter-widgets/base",
       "_view_module_version": "1.2.0",
       "_view_name": "StyleView",
       "description_width": ""
      }
     },
     "6bf9cde5c3964811b0cf0b2ea8deb9f9": {
      "model_module": "@jupyter-widgets/base",
      "model_module_version": "1.2.0",
      "model_name": "LayoutModel",
      "state": {
       "_model_module": "@jupyter-widgets/base",
       "_model_module_version": "1.2.0",
       "_model_name": "LayoutModel",
       "_view_count": null,
       "_view_module": "@jupyter-widgets/base",
       "_view_module_version": "1.2.0",
       "_view_name": "LayoutView",
       "align_content": null,
       "align_items": null,
       "align_self": null,
       "border": null,
       "bottom": null,
       "display": null,
       "flex": null,
       "flex_flow": null,
       "grid_area": null,
       "grid_auto_columns": null,
       "grid_auto_flow": null,
       "grid_auto_rows": null,
       "grid_column": null,
       "grid_gap": null,
       "grid_row": null,
       "grid_template_areas": null,
       "grid_template_columns": null,
       "grid_template_rows": null,
       "height": null,
       "justify_content": null,
       "justify_items": null,
       "left": null,
       "margin": null,
       "max_height": null,
       "max_width": null,
       "min_height": null,
       "min_width": null,
       "object_fit": null,
       "object_position": null,
       "order": null,
       "overflow": null,
       "overflow_x": null,
       "overflow_y": null,
       "padding": null,
       "right": null,
       "top": null,
       "visibility": null,
       "width": null
      }
     },
     "6c489ee6afd14f31ae435362e2023459": {
      "model_module": "@jupyter-widgets/controls",
      "model_module_version": "1.5.0",
      "model_name": "FloatProgressModel",
      "state": {
       "_dom_classes": [],
       "_model_module": "@jupyter-widgets/controls",
       "_model_module_version": "1.5.0",
       "_model_name": "FloatProgressModel",
       "_view_count": null,
       "_view_module": "@jupyter-widgets/controls",
       "_view_module_version": "1.5.0",
       "_view_name": "ProgressView",
       "bar_style": "success",
       "description": "",
       "description_tooltip": null,
       "layout": "IPY_MODEL_12de78103a2d41269cf0006b4ed98599",
       "max": 1307.0,
       "min": 0.0,
       "orientation": "horizontal",
       "style": "IPY_MODEL_c936e7a0f80a48b69274f7985d792c33",
       "value": 1307.0
      }
     },
     "7b16b8c743584e26a285eefc1972c38b": {
      "model_module": "@jupyter-widgets/controls",
      "model_module_version": "1.5.0",
      "model_name": "HTMLModel",
      "state": {
       "_dom_classes": [],
       "_model_module": "@jupyter-widgets/controls",
       "_model_module_version": "1.5.0",
       "_model_name": "HTMLModel",
       "_view_count": null,
       "_view_module": "@jupyter-widgets/controls",
       "_view_module_version": "1.5.0",
       "_view_name": "HTMLView",
       "description": "",
       "description_tooltip": null,
       "layout": "IPY_MODEL_2bc791c7407b4191ac37604015538aa2",
       "placeholder": "​",
       "style": "IPY_MODEL_ee3f804bd94b4e959bcb9908fc3ce45d",
       "value": " 1633/? [10:01&lt;00:00,  1.78it/s]"
      }
     },
     "a9c4b91f98494243a0fc494ba683d485": {
      "model_module": "@jupyter-widgets/controls",
      "model_module_version": "1.5.0",
      "model_name": "DescriptionStyleModel",
      "state": {
       "_model_module": "@jupyter-widgets/controls",
       "_model_module_version": "1.5.0",
       "_model_name": "DescriptionStyleModel",
       "_view_count": null,
       "_view_module": "@jupyter-widgets/base",
       "_view_module_version": "1.2.0",
       "_view_name": "StyleView",
       "description_width": ""
      }
     },
     "ba44ec726d1a4f3aafc55fb059a4c8bf": {
      "model_module": "@jupyter-widgets/base",
      "model_module_version": "1.2.0",
      "model_name": "LayoutModel",
      "state": {
       "_model_module": "@jupyter-widgets/base",
       "_model_module_version": "1.2.0",
       "_model_name": "LayoutModel",
       "_view_count": null,
       "_view_module": "@jupyter-widgets/base",
       "_view_module_version": "1.2.0",
       "_view_name": "LayoutView",
       "align_content": null,
       "align_items": null,
       "align_self": null,
       "border": null,
       "bottom": null,
       "display": null,
       "flex": null,
       "flex_flow": null,
       "grid_area": null,
       "grid_auto_columns": null,
       "grid_auto_flow": null,
       "grid_auto_rows": null,
       "grid_column": null,
       "grid_gap": null,
       "grid_row": null,
       "grid_template_areas": null,
       "grid_template_columns": null,
       "grid_template_rows": null,
       "height": null,
       "justify_content": null,
       "justify_items": null,
       "left": null,
       "margin": null,
       "max_height": null,
       "max_width": null,
       "min_height": null,
       "min_width": null,
       "object_fit": null,
       "object_position": null,
       "order": null,
       "overflow": null,
       "overflow_x": null,
       "overflow_y": null,
       "padding": null,
       "right": null,
       "top": null,
       "visibility": null,
       "width": null
      }
     },
     "bb793530498645ee82f6b39de5b6f3bb": {
      "model_module": "@jupyter-widgets/base",
      "model_module_version": "1.2.0",
      "model_name": "LayoutModel",
      "state": {
       "_model_module": "@jupyter-widgets/base",
       "_model_module_version": "1.2.0",
       "_model_name": "LayoutModel",
       "_view_count": null,
       "_view_module": "@jupyter-widgets/base",
       "_view_module_version": "1.2.0",
       "_view_name": "LayoutView",
       "align_content": null,
       "align_items": null,
       "align_self": null,
       "border": null,
       "bottom": null,
       "display": null,
       "flex": null,
       "flex_flow": null,
       "grid_area": null,
       "grid_auto_columns": null,
       "grid_auto_flow": null,
       "grid_auto_rows": null,
       "grid_column": null,
       "grid_gap": null,
       "grid_row": null,
       "grid_template_areas": null,
       "grid_template_columns": null,
       "grid_template_rows": null,
       "height": null,
       "justify_content": null,
       "justify_items": null,
       "left": null,
       "margin": null,
       "max_height": null,
       "max_width": null,
       "min_height": null,
       "min_width": null,
       "object_fit": null,
       "object_position": null,
       "order": null,
       "overflow": null,
       "overflow_x": null,
       "overflow_y": null,
       "padding": null,
       "right": null,
       "top": null,
       "visibility": null,
       "width": null
      }
     },
     "c446dc74661641a1816940a970cf6239": {
      "model_module": "@jupyter-widgets/controls",
      "model_module_version": "1.5.0",
      "model_name": "HBoxModel",
      "state": {
       "_dom_classes": [],
       "_model_module": "@jupyter-widgets/controls",
       "_model_module_version": "1.5.0",
       "_model_name": "HBoxModel",
       "_view_count": null,
       "_view_module": "@jupyter-widgets/controls",
       "_view_module_version": "1.5.0",
       "_view_name": "HBoxView",
       "box_style": "",
       "children": [
        "IPY_MODEL_637dfe16a74d4d5ab4eb30cc620ea848",
        "IPY_MODEL_6c489ee6afd14f31ae435362e2023459",
        "IPY_MODEL_7b16b8c743584e26a285eefc1972c38b"
       ],
       "layout": "IPY_MODEL_cdde28f083a0415f87c39a1f3453537a"
      }
     },
     "c657402f65fe4fe285ab3b391c608415": {
      "model_module": "@jupyter-widgets/base",
      "model_module_version": "1.2.0",
      "model_name": "LayoutModel",
      "state": {
       "_model_module": "@jupyter-widgets/base",
       "_model_module_version": "1.2.0",
       "_model_name": "LayoutModel",
       "_view_count": null,
       "_view_module": "@jupyter-widgets/base",
       "_view_module_version": "1.2.0",
       "_view_name": "LayoutView",
       "align_content": null,
       "align_items": null,
       "align_self": null,
       "border": null,
       "bottom": null,
       "display": null,
       "flex": null,
       "flex_flow": null,
       "grid_area": null,
       "grid_auto_columns": null,
       "grid_auto_flow": null,
       "grid_auto_rows": null,
       "grid_column": null,
       "grid_gap": null,
       "grid_row": null,
       "grid_template_areas": null,
       "grid_template_columns": null,
       "grid_template_rows": null,
       "height": null,
       "justify_content": null,
       "justify_items": null,
       "left": null,
       "margin": null,
       "max_height": null,
       "max_width": null,
       "min_height": null,
       "min_width": null,
       "object_fit": null,
       "object_position": null,
       "order": null,
       "overflow": null,
       "overflow_x": null,
       "overflow_y": null,
       "padding": null,
       "right": null,
       "top": null,
       "visibility": null,
       "width": null
      }
     },
     "c936e7a0f80a48b69274f7985d792c33": {
      "model_module": "@jupyter-widgets/controls",
      "model_module_version": "1.5.0",
      "model_name": "ProgressStyleModel",
      "state": {
       "_model_module": "@jupyter-widgets/controls",
       "_model_module_version": "1.5.0",
       "_model_name": "ProgressStyleModel",
       "_view_count": null,
       "_view_module": "@jupyter-widgets/base",
       "_view_module_version": "1.2.0",
       "_view_name": "StyleView",
       "bar_color": null,
       "description_width": ""
      }
     },
     "cdde28f083a0415f87c39a1f3453537a": {
      "model_module": "@jupyter-widgets/base",
      "model_module_version": "1.2.0",
      "model_name": "LayoutModel",
      "state": {
       "_model_module": "@jupyter-widgets/base",
       "_model_module_version": "1.2.0",
       "_model_name": "LayoutModel",
       "_view_count": null,
       "_view_module": "@jupyter-widgets/base",
       "_view_module_version": "1.2.0",
       "_view_name": "LayoutView",
       "align_content": null,
       "align_items": null,
       "align_self": null,
       "border": null,
       "bottom": null,
       "display": null,
       "flex": null,
       "flex_flow": null,
       "grid_area": null,
       "grid_auto_columns": null,
       "grid_auto_flow": null,
       "grid_auto_rows": null,
       "grid_column": null,
       "grid_gap": null,
       "grid_row": null,
       "grid_template_areas": null,
       "grid_template_columns": null,
       "grid_template_rows": null,
       "height": null,
       "justify_content": null,
       "justify_items": null,
       "left": null,
       "margin": null,
       "max_height": null,
       "max_width": null,
       "min_height": null,
       "min_width": null,
       "object_fit": null,
       "object_position": null,
       "order": null,
       "overflow": null,
       "overflow_x": null,
       "overflow_y": null,
       "padding": null,
       "right": null,
       "top": null,
       "visibility": null,
       "width": null
      }
     },
     "ee3f804bd94b4e959bcb9908fc3ce45d": {
      "model_module": "@jupyter-widgets/controls",
      "model_module_version": "1.5.0",
      "model_name": "DescriptionStyleModel",
      "state": {
       "_model_module": "@jupyter-widgets/controls",
       "_model_module_version": "1.5.0",
       "_model_name": "DescriptionStyleModel",
       "_view_count": null,
       "_view_module": "@jupyter-widgets/base",
       "_view_module_version": "1.2.0",
       "_view_name": "StyleView",
       "description_width": ""
      }
     }
    },
    "version_major": 2,
    "version_minor": 0
   }
  }
 },
 "nbformat": 4,
 "nbformat_minor": 5
}
